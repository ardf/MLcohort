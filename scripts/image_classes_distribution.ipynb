{
 "cells": [
  {
   "cell_type": "code",
   "execution_count": 1,
   "id": "2cf523a2",
   "metadata": {},
   "outputs": [],
   "source": [
    "import os\n",
    "import matplotlib.pyplot as plt\n",
    "from xml.etree import ElementTree as et"
   ]
  },
  {
   "cell_type": "code",
   "execution_count": 2,
   "id": "d7b0e4c3",
   "metadata": {},
   "outputs": [
    {
     "data": {
      "text/plain": [
       "'C:\\\\AdditionalPackages\\\\TensorFlow\\\\scripts'"
      ]
     },
     "execution_count": 2,
     "metadata": {},
     "output_type": "execute_result"
    }
   ],
   "source": [
    "os.getcwd()"
   ]
  },
  {
   "cell_type": "code",
   "execution_count": 3,
   "id": "678b1b60",
   "metadata": {},
   "outputs": [],
   "source": [
    "os.chdir(r'C:\\AdditionalPackages\\TensorFlow\\workspace\\training_demo\\images\\train')"
   ]
  },
  {
   "cell_type": "code",
   "execution_count": 4,
   "id": "1fe9cd2b",
   "metadata": {},
   "outputs": [
    {
     "data": {
      "text/plain": [
       "'C:\\\\AdditionalPackages\\\\TensorFlow\\\\workspace\\\\training_demo\\\\images\\\\train'"
      ]
     },
     "execution_count": 4,
     "metadata": {},
     "output_type": "execute_result"
    }
   ],
   "source": [
    "os.getcwd()"
   ]
  },
  {
   "cell_type": "code",
   "execution_count": 5,
   "id": "785abfaa",
   "metadata": {},
   "outputs": [],
   "source": [
    "attributeDict = {'scratch':0,'dent':0,'replacement':0}\n",
    "for file in os.listdir(os.getcwd()):\n",
    "    if file.endswith('.xml'):\n",
    "        mytree = et.parse(file)\n",
    "        myroot = mytree.getroot()\n",
    "\n",
    "        for obj in myroot.findall('object'):\n",
    "            for detectionClass in obj.findall('name'):\n",
    "                if detectionClass.text in attributeDict:\n",
    "                    attributeDict[detectionClass.text] += 1\n",
    "                else:\n",
    "                    print(file)\n",
    "                    attributeDict[detectionClass.text] = 1"
   ]
  },
  {
   "cell_type": "code",
   "execution_count": 6,
   "id": "2d6bfef6",
   "metadata": {},
   "outputs": [
    {
     "data": {
      "text/plain": [
       "{'scratch': 274, 'dent': 225, 'replacement': 319}"
      ]
     },
     "execution_count": 6,
     "metadata": {},
     "output_type": "execute_result"
    }
   ],
   "source": [
    "attributeDict"
   ]
  },
  {
   "cell_type": "code",
   "execution_count": 7,
   "id": "de51127b",
   "metadata": {},
   "outputs": [],
   "source": [
    "os.chdir(r'C:\\AdditionalPackages\\TensorFlow\\workspace\\training_demo\\images\\test')"
   ]
  },
  {
   "cell_type": "code",
   "execution_count": 8,
   "id": "e6975bd5",
   "metadata": {},
   "outputs": [
    {
     "data": {
      "text/plain": [
       "'C:\\\\AdditionalPackages\\\\TensorFlow\\\\workspace\\\\training_demo\\\\images\\\\test'"
      ]
     },
     "execution_count": 8,
     "metadata": {},
     "output_type": "execute_result"
    }
   ],
   "source": [
    "os.getcwd()"
   ]
  },
  {
   "cell_type": "code",
   "execution_count": 9,
   "id": "76f5f5f9",
   "metadata": {},
   "outputs": [
    {
     "name": "stdout",
     "output_type": "stream",
     "text": [
      "991.xml\n"
     ]
    }
   ],
   "source": [
    "attributeDict = {'scratch':0,'dent':0,'replacement':0}\n",
    "for file in os.listdir(os.getcwd()):\n",
    "    if file.endswith('.xml'):\n",
    "        mytree = et.parse(file)\n",
    "        myroot = mytree.getroot()\n",
    "\n",
    "        for obj in myroot.findall('object'):\n",
    "            for detectionClass in obj.findall('name'):\n",
    "                if detectionClass.text in attributeDict:\n",
    "                    attributeDict[detectionClass.text] += 1\n",
    "                else:\n",
    "                    print(file)\n",
    "                    attributeDict[detectionClass.text] = 1"
   ]
  },
  {
   "cell_type": "code",
   "execution_count": 10,
   "id": "ef8a7600",
   "metadata": {},
   "outputs": [
    {
     "data": {
      "text/plain": [
       "{'scratch': 25, 'dent': 17, 'replacement': 38, 'test': 1}"
      ]
     },
     "execution_count": 10,
     "metadata": {},
     "output_type": "execute_result"
    }
   ],
   "source": [
    "attributeDict"
   ]
  }
 ],
 "metadata": {
  "kernelspec": {
   "display_name": "Python 3 (ipykernel)",
   "language": "python",
   "name": "python3"
  },
  "language_info": {
   "codemirror_mode": {
    "name": "ipython",
    "version": 3
   },
   "file_extension": ".py",
   "mimetype": "text/x-python",
   "name": "python",
   "nbconvert_exporter": "python",
   "pygments_lexer": "ipython3",
   "version": "3.9.7"
  }
 },
 "nbformat": 4,
 "nbformat_minor": 5
}
